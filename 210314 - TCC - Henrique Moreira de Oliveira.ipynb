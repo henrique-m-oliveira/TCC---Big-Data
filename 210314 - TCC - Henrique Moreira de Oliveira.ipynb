{
 "cells": [
  {
   "cell_type": "code",
   "execution_count": null,
   "metadata": {},
   "outputs": [],
   "source": [
    "#Importação da biblioteca pandas\n",
    "import pandas as pd"
   ]
  },
  {
   "cell_type": "code",
   "execution_count": null,
   "metadata": {},
   "outputs": [],
   "source": [
    "#leitura do arquivo consulta_cand_2018_BRASIL.csv\n",
    "df_consulta = pd.read_csv(\"consulta_cand_2018_BRASIL.csv\", \n",
    "                          encoding = \"Latin 1\", sep = \";\", decimal = ',')"
   ]
  },
  {
   "cell_type": "code",
   "execution_count": null,
   "metadata": {},
   "outputs": [],
   "source": [
    "#informações do dataframe df_consulta\n",
    "df_consulta.info()"
   ]
  },
  {
   "cell_type": "code",
   "execution_count": null,
   "metadata": {},
   "outputs": [],
   "source": [
    "#identificação das opções da coluna DS_CARGO do dataframe df_consulta\n",
    "df_consulta['DS_CARGO'].unique()"
   ]
  },
  {
   "cell_type": "code",
   "execution_count": null,
   "metadata": {},
   "outputs": [],
   "source": [
    "#Seleção das opções de interesse na coluna DS_CARGO\n",
    "df_consulta = df_consulta[df_consulta.DS_CARGO.isin(['DEPUTADO ESTADUAL',\n",
    "                                                     'DEPUTADO FEDERAL'])]"
   ]
  },
  {
   "cell_type": "code",
   "execution_count": null,
   "metadata": {},
   "outputs": [],
   "source": [
    "#Informações do dataframe após o filtro aplicado\n",
    "df_consulta.info()"
   ]
  },
  {
   "cell_type": "code",
   "execution_count": null,
   "metadata": {},
   "outputs": [],
   "source": [
    "#identificação das opções da coluna DS_SITUACAO_CANDIDATURA do dataframe df_consulta\n",
    "df_consulta['DS_SITUACAO_CANDIDATURA'].unique()"
   ]
  },
  {
   "cell_type": "code",
   "execution_count": null,
   "metadata": {},
   "outputs": [],
   "source": [
    "#Seleção das opções de interesse na coluna DS_SITUACAO_CANDIDATURA\n",
    "df_consulta = df_consulta[df_consulta.DS_SITUACAO_CANDIDATURA.isin(['APTO'])]"
   ]
  },
  {
   "cell_type": "code",
   "execution_count": null,
   "metadata": {},
   "outputs": [],
   "source": [
    "#Informações do dataframe após o filtro aplicado\n",
    "df_consulta.info()"
   ]
  },
  {
   "cell_type": "code",
   "execution_count": null,
   "metadata": {},
   "outputs": [],
   "source": [
    "#identificação das opções da coluna NR_DESPESA_MAX_CAMPANHA do dataframe df_consulta\n",
    "df_consulta['NR_DESPESA_MAX_CAMPANHA'].unique()"
   ]
  },
  {
   "cell_type": "code",
   "execution_count": null,
   "metadata": {},
   "outputs": [],
   "source": [
    "#Seleção das colunas de interesse\n",
    "df_consulta = df_consulta[['SQ_CANDIDATO','NR_IDADE_DATA_POSSE','DS_GENERO',\n",
    "                           'DS_GRAU_INSTRUCAO','DS_ESTADO_CIVIL',\n",
    "                           'DS_COR_RACA','DS_SIT_TOT_TURNO']]"
   ]
  },
  {
   "cell_type": "code",
   "execution_count": null,
   "metadata": {},
   "outputs": [],
   "source": [
    "#Informações do dataframe após o filtro aplicado\n",
    "df_consulta.info()"
   ]
  },
  {
   "cell_type": "code",
   "execution_count": null,
   "metadata": {},
   "outputs": [],
   "source": [
    "#Verificação dos valores nulos no dataframe df_consulta\n",
    "df_consulta.isnull().sum()"
   ]
  },
  {
   "cell_type": "code",
   "execution_count": null,
   "metadata": {},
   "outputs": [],
   "source": [
    "#leitura do arquivo bem_candidato_2018_BRASIL.csv\n",
    "df_bem = pd.read_csv(\"bem_candidato_2018_BRASIL.csv\", encoding = \"Latin 1\", sep = \";\", decimal = ',')"
   ]
  },
  {
   "cell_type": "code",
   "execution_count": null,
   "metadata": {},
   "outputs": [],
   "source": [
    "#informações do dataframe df_bem\n",
    "df_bem.info()"
   ]
  },
  {
   "cell_type": "code",
   "execution_count": null,
   "metadata": {},
   "outputs": [],
   "source": [
    "#Seleção das colunas de interesse\n",
    "df_bem = df_bem[['SQ_CANDIDATO','DS_TIPO_BEM_CANDIDATO','DS_BEM_CANDIDATO','VR_BEM_CANDIDATO']]"
   ]
  },
  {
   "cell_type": "code",
   "execution_count": null,
   "metadata": {},
   "outputs": [],
   "source": [
    "#informações do dataframe df_bem após seleção das colunas\n",
    "df_bem.info()"
   ]
  },
  {
   "cell_type": "code",
   "execution_count": null,
   "metadata": {},
   "outputs": [],
   "source": [
    "#Verificação dos valores nulos no dataframe df_bem\n",
    "df_bem.isnull().sum()"
   ]
  },
  {
   "cell_type": "code",
   "execution_count": null,
   "metadata": {},
   "outputs": [],
   "source": [
    "#leitura do arquivo despesas_contratadas_candidatos_2018_BRASIL.csv\n",
    "df_despesas_contratadas = pd.read_csv(\"despesas_contratadas_candidatos_2018_BRASIL.csv\", \n",
    "                                      encoding = \"Latin 1\", sep = \";\", decimal = ',')"
   ]
  },
  {
   "cell_type": "code",
   "execution_count": null,
   "metadata": {},
   "outputs": [],
   "source": [
    "#informações do dataframe df_despesas_contratadas \n",
    "df_despesas_contratadas.info()"
   ]
  },
  {
   "cell_type": "code",
   "execution_count": null,
   "metadata": {},
   "outputs": [],
   "source": [
    "#Seleção das colunas de interesse\n",
    "df_despesas_contratadas = df_despesas_contratadas[['SQ_DESPESA','SQ_CANDIDATO', 'DS_DESPESA', \n",
    "                                                   'VR_DESPESA_CONTRATADA']]"
   ]
  },
  {
   "cell_type": "code",
   "execution_count": null,
   "metadata": {},
   "outputs": [],
   "source": [
    "#informações do dataframe df_despesas_contratadas após seleção das colunas\n",
    "df_despesas_contratadas.info()"
   ]
  },
  {
   "cell_type": "code",
   "execution_count": null,
   "metadata": {},
   "outputs": [],
   "source": [
    "#Verificação dos valores nulos\n",
    "df_despesas_contratadas.isnull().sum()"
   ]
  },
  {
   "cell_type": "code",
   "execution_count": null,
   "metadata": {},
   "outputs": [],
   "source": [
    "#leitura do arquivo despesas_pagas_candidatos_2018_BRASIL.csv\n",
    "df_despesas_pagas = pd.read_csv(\"despesas_pagas_candidatos_2018_BRASIL.csv\", \n",
    "                                encoding = \"Latin 1\", sep = \";\", decimal = ',')"
   ]
  },
  {
   "cell_type": "code",
   "execution_count": null,
   "metadata": {},
   "outputs": [],
   "source": [
    "#informações do dataframe df_despesas_pagas\n",
    "df_despesas_pagas.info()"
   ]
  },
  {
   "cell_type": "code",
   "execution_count": null,
   "metadata": {},
   "outputs": [],
   "source": [
    "#Seleção das colunas de interesse\n",
    "df_despesas_pagas = df_despesas_pagas[['SQ_DESPESA','VR_PAGTO_DESPESA']]"
   ]
  },
  {
   "cell_type": "code",
   "execution_count": null,
   "metadata": {},
   "outputs": [],
   "source": [
    "#informações do dataframe df_despesas_pagas após seleção das colunas\n",
    "df_despesas_pagas.info()"
   ]
  },
  {
   "cell_type": "code",
   "execution_count": null,
   "metadata": {},
   "outputs": [],
   "source": [
    "#Verificação dos valores nulos\n",
    "df_despesas_pagas.isnull().sum()"
   ]
  },
  {
   "cell_type": "code",
   "execution_count": null,
   "metadata": {},
   "outputs": [],
   "source": [
    "#Importação da função Counter e da biblioteca matplotlib.pyplot\n",
    "from collections import Counter\n",
    "import matplotlib.pyplot as plt"
   ]
  },
  {
   "cell_type": "code",
   "execution_count": null,
   "metadata": {},
   "outputs": [],
   "source": [
    "#identificação das opções da coluna DS_SIT_TOT_TURNO do dataframe df_consulta\n",
    "df_consulta['DS_SIT_TOT_TURNO'].unique()"
   ]
  },
  {
   "cell_type": "code",
   "execution_count": null,
   "metadata": {},
   "outputs": [],
   "source": [
    "#Criação de um dataframe df_consulta apenas com candidatos eleitos\n",
    "df_consulta_eleitos = df_consulta[df_consulta.DS_SIT_TOT_TURNO.isin(['ELEITO POR MÉDIA',\n",
    "                                                     'ELEITO POR QP'])]"
   ]
  },
  {
   "cell_type": "code",
   "execution_count": null,
   "metadata": {},
   "outputs": [],
   "source": [
    "#informações do dataframe df_consulta_eleitos\n",
    "df_consulta_eleitos.info()"
   ]
  },
  {
   "cell_type": "code",
   "execution_count": null,
   "metadata": {},
   "outputs": [],
   "source": [
    "#Contagem das opções da coluna DS_GENERO\n",
    "genero_candidatos = Counter(df_consulta['DS_GENERO'])\n",
    "genero_candidatos"
   ]
  },
  {
   "cell_type": "code",
   "execution_count": null,
   "metadata": {},
   "outputs": [],
   "source": [
    "#Plotagem das informações de gênero dos candidatos\n",
    "plt.style.use('seaborn-pastel')\n",
    "plt.pie(genero_candidatos.values(), labels = genero_candidatos.keys(), \n",
    "        autopct = '%1.1f%%', textprops={'fontsize': 16})\n",
    "plt.axis(\"image\")\n",
    "plt.title(\"Gênero dos candidatos\", fontsize=18)\n",
    "plt.show()"
   ]
  },
  {
   "cell_type": "code",
   "execution_count": null,
   "metadata": {},
   "outputs": [],
   "source": [
    "#Contagem das opções da coluna DS_GENERO de candidatos eleitos\n",
    "genero_candidatos_eleitos = Counter(df_consulta_eleitos['DS_GENERO'])\n",
    "genero_candidatos_eleitos"
   ]
  },
  {
   "cell_type": "code",
   "execution_count": null,
   "metadata": {},
   "outputs": [],
   "source": [
    "#Plotagem das informações de gênero dos candidatos eleitos\n",
    "plt.style.use('ggplot')\n",
    "plt.pie(genero_candidatos_eleitos.values(), labels = genero_candidatos_eleitos.keys(), \n",
    "        autopct = '%1.1f%%', textprops={'fontsize': 16})\n",
    "plt.title(\"Gênero dos candidatos eleitos\", fontsize=18)\n",
    "plt.axis(\"image\")\n",
    "plt.show()"
   ]
  },
  {
   "cell_type": "code",
   "execution_count": null,
   "metadata": {},
   "outputs": [],
   "source": [
    "#Descrição estatística da idade dos candidatos\n",
    "df_consulta['NR_IDADE_DATA_POSSE'].describe()"
   ]
  },
  {
   "cell_type": "code",
   "execution_count": null,
   "metadata": {},
   "outputs": [],
   "source": [
    "#Descrição estatística da idade dos candidatos eleitos\n",
    "df_consulta_eleitos['NR_IDADE_DATA_POSSE'].describe()"
   ]
  },
  {
   "cell_type": "code",
   "execution_count": null,
   "metadata": {},
   "outputs": [],
   "source": [
    "#Plotagem de histograma com as idades dos candidatos\n",
    "df_consulta.NR_IDADE_DATA_POSSE.hist(bins=20)\n",
    "plt.style.use('seaborn-pastel')\n",
    "plt.xlabel(\"Idade\")\n",
    "plt.ylabel(\"Número de candidatos\")\n",
    "plt.title(\"Idade na posse\")\n",
    "plt.show()"
   ]
  },
  {
   "cell_type": "code",
   "execution_count": null,
   "metadata": {},
   "outputs": [],
   "source": [
    "#Plotagem de histograma com as idades dos candidatos eleitos\n",
    "df_consulta_eleitos.NR_IDADE_DATA_POSSE.hist(bins=20)\n",
    "plt.style.use('ggplot')\n",
    "plt.xlabel(\"Idade\")\n",
    "plt.ylabel(\"Número de candidatos eleitos\")\n",
    "plt.title(\"Idade na posse - Eleitos\")\n",
    "plt.show()"
   ]
  },
  {
   "cell_type": "code",
   "execution_count": null,
   "metadata": {},
   "outputs": [],
   "source": [
    "#Contagem das opções da coluna DS_GRAU_INSTRUCAO dos candidatos\n",
    "escolaridade_candidatos = Counter(df_consulta['DS_GRAU_INSTRUCAO'])\n",
    "escolaridade_candidatos"
   ]
  },
  {
   "cell_type": "code",
   "execution_count": null,
   "metadata": {},
   "outputs": [],
   "source": [
    "#Identificação dos percentuais de escolaridade dos candidatos\n",
    "n_candidatos=sum(escolaridade_candidatos.values())\n",
    "for x, y in escolaridade_candidatos.items():\n",
    "    a = y/n_candidatos*100\n",
    "    print(str(x) + ': ' +'\\n'+ str(round(a,2)) + '%'+'\\n')"
   ]
  },
  {
   "cell_type": "code",
   "execution_count": null,
   "metadata": {},
   "outputs": [],
   "source": [
    "#Criação de listas para construção do gráfico de escolaridade\n",
    "lista_escolaridade_candidatos_labels = []\n",
    "lista_escolaridade_candidatos_valores = []\n",
    "for x, y in escolaridade_candidatos.items():\n",
    "    lista_escolaridade_candidatos_labels.append(x)\n",
    "    lista_escolaridade_candidatos_valores.append(y)"
   ]
  },
  {
   "cell_type": "code",
   "execution_count": null,
   "metadata": {},
   "outputs": [],
   "source": [
    "#Verificação da lista criada\n",
    "lista_escolaridade_candidatos_labels"
   ]
  },
  {
   "cell_type": "code",
   "execution_count": null,
   "metadata": {},
   "outputs": [],
   "source": [
    "#Verificação da lista criada\n",
    "lista_escolaridade_candidatos_valores"
   ]
  },
  {
   "cell_type": "code",
   "execution_count": null,
   "metadata": {},
   "outputs": [],
   "source": [
    "#Plotagem do gráfico de escolaridade dos candidatos\n",
    "plt.style.use('seaborn-pastel')\n",
    "plt.barh(lista_escolaridade_candidatos_labels, lista_escolaridade_candidatos_valores)\n",
    "plt.ylabel('escolaridade')\n",
    "plt.xlabel('número de candidatos')\n",
    "plt.title('Candidatos por escolaridade')\n",
    "plt.show()"
   ]
  },
  {
   "cell_type": "code",
   "execution_count": null,
   "metadata": {},
   "outputs": [],
   "source": [
    "#Contagem das opções da coluna DS_GRAU_INSTRUCAO dos candidatos eleitos\n",
    "escolaridade_candidatos_eleitos = Counter(df_consulta_eleitos['DS_GRAU_INSTRUCAO'])\n",
    "escolaridade_candidatos_eleitos"
   ]
  },
  {
   "cell_type": "code",
   "execution_count": null,
   "metadata": {},
   "outputs": [],
   "source": [
    "#Identificação dos percentuais de escolaridade dos candidatos eleitos\n",
    "n_eleitos=sum(escolaridade_candidatos_eleitos.values())\n",
    "for x, y in escolaridade_candidatos_eleitos.items():\n",
    "    a = y/n_eleitos*100\n",
    "    print(str(x) + ': ' +'\\n'+ str(round(a,2)) + '%'+'\\n')"
   ]
  },
  {
   "cell_type": "code",
   "execution_count": null,
   "metadata": {},
   "outputs": [],
   "source": [
    "#Criação de listas para construção do gráfico de escolaridade dos candidatos eleitos\n",
    "lista_escolaridade_candidatos_eleitos_labels = []\n",
    "lista_escolaridade_candidatos_eleitos_valores = []\n",
    "for x, y in escolaridade_candidatos_eleitos.items():\n",
    "    lista_escolaridade_candidatos_eleitos_labels.append(x)\n",
    "    lista_escolaridade_candidatos_eleitos_valores.append(y)"
   ]
  },
  {
   "cell_type": "code",
   "execution_count": null,
   "metadata": {},
   "outputs": [],
   "source": [
    "#Verificação da lista criada\n",
    "lista_escolaridade_candidatos_eleitos_labels"
   ]
  },
  {
   "cell_type": "code",
   "execution_count": null,
   "metadata": {},
   "outputs": [],
   "source": [
    "#Verificação da lista criada\n",
    "lista_escolaridade_candidatos_eleitos_valores"
   ]
  },
  {
   "cell_type": "code",
   "execution_count": null,
   "metadata": {},
   "outputs": [],
   "source": [
    "#Plotagem do gráfico de escolaridade dos candidatos eleitos\n",
    "plt.style.use('ggplot')\n",
    "plt.barh(lista_escolaridade_candidatos_eleitos_labels, \n",
    "         lista_escolaridade_candidatos_eleitos_valores)\n",
    "plt.ylabel('escolaridade')\n",
    "plt.xlabel('número de candidatos')\n",
    "plt.title('Candidatos eleitos por escolaridade')\n",
    "plt.show()"
   ]
  },
  {
   "cell_type": "code",
   "execution_count": null,
   "metadata": {},
   "outputs": [],
   "source": [
    "#Contagem das opções da coluna DS_COR_RACA dos candidatos\n",
    "raca_candidatos = Counter(df_consulta['DS_COR_RACA'])\n",
    "raca_candidatos"
   ]
  },
  {
   "cell_type": "code",
   "execution_count": null,
   "metadata": {},
   "outputs": [],
   "source": [
    "#Identificação dos percentuais de raça dos candidatos\n",
    "n_raca=sum(raca_candidatos.values())\n",
    "for x, y in raca_candidatos.items():\n",
    "    a = y/n_raca*100\n",
    "    print(str(x) + ': ' +'\\n'+ str(round(a,2)) + '%'+'\\n')"
   ]
  },
  {
   "cell_type": "code",
   "execution_count": null,
   "metadata": {},
   "outputs": [],
   "source": [
    "#Plotagem do gráfico de raça dos candidatos\n",
    "plt.style.use('seaborn-pastel')\n",
    "plt.bar(raca_candidatos.keys(), raca_candidatos.values())\n",
    "plt.ylabel('Número de candidatos')\n",
    "plt.xlabel('Raça')\n",
    "plt.title('Candidatos por raça')\n",
    "plt.show()"
   ]
  },
  {
   "cell_type": "code",
   "execution_count": null,
   "metadata": {},
   "outputs": [],
   "source": [
    "#Contagem das opções da coluna DS_COR_RACA dos candidatos eleitos\n",
    "raca_candidatos_eleitos = Counter(df_consulta_eleitos['DS_COR_RACA'])\n",
    "raca_candidatos_eleitos"
   ]
  },
  {
   "cell_type": "code",
   "execution_count": null,
   "metadata": {},
   "outputs": [],
   "source": [
    "#Identificação dos percentuais de raça dos candidatos eleitos\n",
    "n_raca_eleitos=sum(raca_candidatos_eleitos.values())\n",
    "for x, y in raca_candidatos_eleitos.items():\n",
    "    a = y/n_raca_eleitos*100\n",
    "    print(str(x) + ': ' +'\\n'+ str(round(a,2)) + '%'+'\\n')"
   ]
  },
  {
   "cell_type": "code",
   "execution_count": null,
   "metadata": {},
   "outputs": [],
   "source": [
    "#Plotagem do gráfico de raça dos candidatos eleitos\n",
    "plt.style.use('ggplot')\n",
    "plt.bar(raca_candidatos_eleitos.keys(), raca_candidatos_eleitos.values())\n",
    "plt.ylabel('Número de candidatos eleitos')\n",
    "plt.xlabel('Raça')\n",
    "plt.title('Candidatos eleitos por raça')\n",
    "plt.show()"
   ]
  },
  {
   "cell_type": "code",
   "execution_count": null,
   "metadata": {},
   "outputs": [],
   "source": [
    "#Contagem das opções da coluna DS_ESTADO_CIVIL dos candidatos\n",
    "estado_civil_candidatos = Counter(df_consulta['DS_ESTADO_CIVIL'])\n",
    "estado_civil_candidatos"
   ]
  },
  {
   "cell_type": "code",
   "execution_count": null,
   "metadata": {},
   "outputs": [],
   "source": [
    "#Identificação dos percentuais de estado civil dos candidatos\n",
    "n_estado_civil=sum(estado_civil_candidatos.values())\n",
    "for x, y in estado_civil_candidatos.items():\n",
    "    a = y/n_estado_civil*100\n",
    "    print(str(x) + ': ' +'\\n'+ str(round(a,2)) + '%'+'\\n')"
   ]
  },
  {
   "cell_type": "code",
   "execution_count": null,
   "metadata": {},
   "outputs": [],
   "source": [
    "#Criação de listas para construção do gráfico de estado civil dos candidatos\n",
    "lista_estado_civil_candidatos_labels = []\n",
    "lista_estado_civil_candidatos_valores = []\n",
    "for x, y in estado_civil_candidatos.items():\n",
    "    lista_estado_civil_candidatos_labels.append(x)\n",
    "    lista_estado_civil_candidatos_valores.append(y)"
   ]
  },
  {
   "cell_type": "code",
   "execution_count": null,
   "metadata": {},
   "outputs": [],
   "source": [
    "#Verificação da lista criada\n",
    "lista_estado_civil_candidatos_labels"
   ]
  },
  {
   "cell_type": "code",
   "execution_count": null,
   "metadata": {},
   "outputs": [],
   "source": [
    "#Verificação da lista criada\n",
    "lista_estado_civil_candidatos_valores"
   ]
  },
  {
   "cell_type": "code",
   "execution_count": null,
   "metadata": {},
   "outputs": [],
   "source": [
    "#Plotagem do gráfico de estado civil dos candidatos\n",
    "plt.style.use('seaborn-pastel')\n",
    "plt.barh(lista_estado_civil_candidatos_labels, lista_estado_civil_candidatos_valores)\n",
    "plt.ylabel('Estado civil')\n",
    "plt.xlabel('número de candidatos')\n",
    "plt.title('Candidatos por estado civil')\n",
    "plt.show()"
   ]
  },
  {
   "cell_type": "code",
   "execution_count": null,
   "metadata": {},
   "outputs": [],
   "source": [
    "#Contagem das opções da coluna DS_ESTADO_CIVIL dos candidatos eleitos\n",
    "estado_civil_candidatos_eleitos = Counter(df_consulta_eleitos['DS_ESTADO_CIVIL'])\n",
    "estado_civil_candidatos_eleitos"
   ]
  },
  {
   "cell_type": "code",
   "execution_count": null,
   "metadata": {},
   "outputs": [],
   "source": [
    "#Identificação dos percentuais de estado civil dos candidatos eleitos\n",
    "n_estado_civil_eleitos=sum(estado_civil_candidatos_eleitos.values())\n",
    "for x, y in estado_civil_candidatos_eleitos.items():\n",
    "    a = y/n_estado_civil_eleitos*100\n",
    "    print(str(x) + ': ' +'\\n'+ str(round(a,2)) + '%'+'\\n')"
   ]
  },
  {
   "cell_type": "code",
   "execution_count": null,
   "metadata": {},
   "outputs": [],
   "source": [
    "#Criação de listas para construção do gráfico de estado civil dos candidatos eleitos\n",
    "lista_estado_civil_candidatos_eleitos_labels = []\n",
    "lista_estado_civil_candidatos_eleitos_valores = []\n",
    "for x, y in estado_civil_candidatos_eleitos.items():\n",
    "    lista_estado_civil_candidatos_eleitos_labels.append(x)\n",
    "    lista_estado_civil_candidatos_eleitos_valores.append(y)"
   ]
  },
  {
   "cell_type": "code",
   "execution_count": null,
   "metadata": {},
   "outputs": [],
   "source": [
    "#Verificação da lista criada\n",
    "lista_estado_civil_candidatos_eleitos_labels"
   ]
  },
  {
   "cell_type": "code",
   "execution_count": null,
   "metadata": {},
   "outputs": [],
   "source": [
    "#Verificação da lista criada\n",
    "lista_estado_civil_candidatos_eleitos_valores"
   ]
  },
  {
   "cell_type": "code",
   "execution_count": null,
   "metadata": {},
   "outputs": [],
   "source": [
    "#Plotagem do gráfico de estado civil dos candidatos eleitos\n",
    "plt.style.use('ggplot')\n",
    "plt.barh(lista_estado_civil_candidatos_eleitos_labels, \n",
    "         lista_estado_civil_candidatos_eleitos_valores)\n",
    "plt.ylabel('Estado civil')\n",
    "plt.xlabel('número de candidatos eleitos')\n",
    "plt.title('Candidatos por estado civil - Eleitos') \n",
    "plt.show()"
   ]
  },
  {
   "cell_type": "code",
   "execution_count": null,
   "metadata": {},
   "outputs": [],
   "source": [
    "#descrição estatística dos valores dos bens dos candidatos\n",
    "df_bem['VR_BEM_CANDIDATO'].describe().astype('int')"
   ]
  },
  {
   "cell_type": "code",
   "execution_count": null,
   "metadata": {},
   "outputs": [],
   "source": [
    "#Plotagem do histograma dos valores dos bens dos candidatos\n",
    "df_bem.VR_BEM_CANDIDATO.hist(bins=100)                           \n",
    "plt.style.use('seaborn-pastel')\n",
    "plt.xlabel(\"Valor\")\n",
    "plt.ylabel(\"Número de bens\")\n",
    "plt.title(\"Bens candidatos - valores\")\n",
    "plt.show()"
   ]
  },
  {
   "cell_type": "code",
   "execution_count": null,
   "metadata": {},
   "outputs": [],
   "source": [
    "#Quantidade de bens com valores acima de R$ 10.000.000,00\n",
    "df_bem.loc[(df_bem['VR_BEM_CANDIDATO'] > 10000000)].info()"
   ]
  },
  {
   "cell_type": "code",
   "execution_count": null,
   "metadata": {},
   "outputs": [],
   "source": [
    "#Impressão dos detalhes dos bens com valores acima de R$ 10.000.000,00\n",
    "for index, row in df_bem.loc[(df_bem['VR_BEM_CANDIDATO'] > 10000000)].iterrows():\n",
    "    print(index)\n",
    "    print('Candidato: ' + str(row['SQ_CANDIDATO']))\n",
    "    print('Tipo de bem: ' + row['DS_TIPO_BEM_CANDIDATO'])\n",
    "    print('Descrição: ' + row['DS_BEM_CANDIDATO'])\n",
    "    print('Valor: '+ str(row['VR_BEM_CANDIDATO']) + '\\n')"
   ]
  },
  {
   "cell_type": "code",
   "execution_count": null,
   "metadata": {},
   "outputs": [],
   "source": [
    "#Correções possíveis dos valores nos bens\n",
    "df_bem.at[4509, 'VR_BEM_CANDIDATO'] = 14000\n",
    "df_bem.at[17396, 'VR_BEM_CANDIDATO'] = 0\n",
    "df_bem.at[22364, 'VR_BEM_CANDIDATO'] = 16000\n",
    "df_bem.at[23420, 'VR_BEM_CANDIDATO'] = 850000\n",
    "df_bem.at[28756, 'VR_BEM_CANDIDATO'] = 0\n",
    "df_bem.at[49940, 'VR_BEM_CANDIDATO'] = 50642\n",
    "df_bem.at[50448, 'VR_BEM_CANDIDATO'] = 0\n",
    "df_bem.at[55349, 'VR_BEM_CANDIDATO'] = 40000\n",
    "df_bem.at[60840, 'VR_BEM_CANDIDATO'] = 600000\n",
    "df_bem.at[65226, 'VR_BEM_CANDIDATO'] = 38000\n",
    "df_bem.at[67475, 'VR_BEM_CANDIDATO'] = 50642\n",
    "df_bem.at[77320, 'VR_BEM_CANDIDATO'] = 340000\n",
    "df_bem.at[77372, 'VR_BEM_CANDIDATO'] = 480000\n",
    "df_bem.at[86521, 'VR_BEM_CANDIDATO'] = 700000\n",
    "df_bem.at[89495, 'VR_BEM_CANDIDATO'] = 58000"
   ]
  },
  {
   "cell_type": "code",
   "execution_count": null,
   "metadata": {},
   "outputs": [],
   "source": [
    "#Descrição estatística dos valores dos bens após as correções\n",
    "df_bem['VR_BEM_CANDIDATO'].describe().astype('int')"
   ]
  },
  {
   "cell_type": "code",
   "execution_count": null,
   "metadata": {},
   "outputs": [],
   "source": [
    "#Agrupamento dos bens por candidato\n",
    "df_bem = df_bem.groupby(['SQ_CANDIDATO']).sum()"
   ]
  },
  {
   "cell_type": "code",
   "execution_count": null,
   "metadata": {},
   "outputs": [],
   "source": [
    "#Informações do dataframe df_bem após o agrupamento\n",
    "df_bem.info()"
   ]
  },
  {
   "cell_type": "code",
   "execution_count": null,
   "metadata": {},
   "outputs": [],
   "source": [
    "#Descrição estatística do dataframe df_bem após agrupamento\n",
    "df_bem['VR_BEM_CANDIDATO'].describe().astype('int')"
   ]
  },
  {
   "cell_type": "code",
   "execution_count": null,
   "metadata": {},
   "outputs": [],
   "source": [
    "#Plotagem do histograma dos valores dos bens dos candidatos - corrigido\n",
    "df_bem.VR_BEM_CANDIDATO.hist(bins=100)\n",
    "plt.style.use('seaborn-pastel')\n",
    "plt.xlabel(\"Valor\")\n",
    "plt.ylabel(\"Número de candidatos\")\n",
    "plt.title(\"Total de bens dos candidatos\")\n",
    "plt.show()"
   ]
  },
  {
   "cell_type": "code",
   "execution_count": null,
   "metadata": {},
   "outputs": [],
   "source": [
    "#Criação de um dataframe com bens abaixo de R$ 10.000.000,00\n",
    "df_bem_10mi = df_bem.loc[(df_bem['VR_BEM_CANDIDATO'] < 10000000)]"
   ]
  },
  {
   "cell_type": "code",
   "execution_count": null,
   "metadata": {},
   "outputs": [],
   "source": [
    "#Plotagem do histograma dos valores dos bens dos candidatos até R$ 10.000.000,00\n",
    "df_bem_10mi.VR_BEM_CANDIDATO.hist(bins=100)\n",
    "plt.style.use('seaborn-pastel')\n",
    "plt.xlabel(\"Valor\")\n",
    "plt.ylabel(\"Número de candidatos\")\n",
    "plt.title(\"Total de bens dos candidatos\")\n",
    "plt.show()"
   ]
  },
  {
   "cell_type": "code",
   "execution_count": null,
   "metadata": {},
   "outputs": [],
   "source": [
    "#Definição do índice do dataframe df_consulta\n",
    "df_consulta = df_consulta.set_index('SQ_CANDIDATO')"
   ]
  },
  {
   "cell_type": "code",
   "execution_count": null,
   "metadata": {},
   "outputs": [],
   "source": [
    "#Informações do dataframe df_consulta após definição do índice\n",
    "df_consulta.info()"
   ]
  },
  {
   "cell_type": "code",
   "execution_count": null,
   "metadata": {},
   "outputs": [],
   "source": [
    "#Criação de um dataframe consolidado a partir da junção de df_consulta e df_bem\n",
    "df_consolidado = df_consulta.join(df_bem)"
   ]
  },
  {
   "cell_type": "code",
   "execution_count": null,
   "metadata": {},
   "outputs": [],
   "source": [
    "#Informações do dataframe df_consolidado\n",
    "df_consolidado.info()"
   ]
  },
  {
   "cell_type": "code",
   "execution_count": null,
   "metadata": {},
   "outputs": [],
   "source": [
    "#Verificação dos valores nulos no dataframe df_consolidado\n",
    "df_consolidado.isnull().sum()"
   ]
  },
  {
   "cell_type": "code",
   "execution_count": null,
   "metadata": {},
   "outputs": [],
   "source": [
    "#Preenchimento dos campos nulos no dataframe df_consolidado\n",
    "df_consolidado.fillna(0, inplace = True)"
   ]
  },
  {
   "cell_type": "code",
   "execution_count": null,
   "metadata": {},
   "outputs": [],
   "source": [
    "#Informações do dataframe df_consolidado após preenchimento dos valores nulos\n",
    "df_consolidado.info()"
   ]
  },
  {
   "cell_type": "code",
   "execution_count": null,
   "metadata": {},
   "outputs": [],
   "source": [
    "#Criação de um dataframe consolidado de candidatos eleitos\n",
    "df_consolidado_eleitos = df_consolidado[df_consulta.DS_SIT_TOT_TURNO.isin(['ELEITO POR MÉDIA',\n",
    "                                                     'ELEITO POR QP'])]"
   ]
  },
  {
   "cell_type": "code",
   "execution_count": null,
   "metadata": {},
   "outputs": [],
   "source": [
    "#Informações do dataframe consolidado de candidatos eleitos\n",
    "df_consolidado_eleitos.info()"
   ]
  },
  {
   "cell_type": "code",
   "execution_count": null,
   "metadata": {},
   "outputs": [],
   "source": [
    "#Descrição estatística dos bens dos candidatos do dataframe consolidado\n",
    "df_consolidado['VR_BEM_CANDIDATO'].describe().astype('int')"
   ]
  },
  {
   "cell_type": "code",
   "execution_count": null,
   "metadata": {},
   "outputs": [],
   "source": [
    "#Descrição estatística dos bens dos candidatos eleitos do dataframe consolidado\n",
    "df_consolidado_eleitos['VR_BEM_CANDIDATO'].describe().astype('int')"
   ]
  },
  {
   "cell_type": "code",
   "execution_count": null,
   "metadata": {},
   "outputs": [],
   "source": [
    "#Plotagem do histograma dos valores dos bens dos candidatos do dataframe consolidado\n",
    "df_consolidado.VR_BEM_CANDIDATO.hist(bins=100)\n",
    "plt.style.use('seaborn-pastel')\n",
    "plt.xlabel(\"Valor\")\n",
    "plt.ylabel(\"Número de candidatos\")\n",
    "plt.title(\"Total de bens dos candidatos\")\n",
    "plt.show()"
   ]
  },
  {
   "cell_type": "code",
   "execution_count": null,
   "metadata": {},
   "outputs": [],
   "source": [
    "#Plotagem do histograma dos valores dos bens dos candidatos eleitos do dataframe consolidado\n",
    "df_consolidado_eleitos.VR_BEM_CANDIDATO.hist(bins=100)\n",
    "plt.style.use('ggplot')\n",
    "plt.xlabel(\"Valor\")\n",
    "plt.ylabel(\"Número de candidatos eleitos\")\n",
    "plt.title(\"Total de bens dos candidatos eleitos\")\n",
    "plt.show()"
   ]
  },
  {
   "cell_type": "code",
   "execution_count": null,
   "metadata": {},
   "outputs": [],
   "source": [
    "#Criação de um dataframe com bens dos candidatos até R$ 10.000.000,00\n",
    "df_consolidado_10mi = df_consolidado.loc[(df_consolidado['VR_BEM_CANDIDATO'] < 10000000)]"
   ]
  },
  {
   "cell_type": "code",
   "execution_count": null,
   "metadata": {},
   "outputs": [],
   "source": [
    "#Criação de um dataframe com bens dos candidatos eleitos até R$ 10.000.000,00\n",
    "df_consolidado_eleitos_10mi = df_consolidado_eleitos.loc[(df_consolidado_eleitos\n",
    "                                                          ['VR_BEM_CANDIDATO'] < 10000000)]"
   ]
  },
  {
   "cell_type": "code",
   "execution_count": null,
   "metadata": {},
   "outputs": [],
   "source": [
    "#Plotagem dos bens de candidatos até R$ 10.000.000,00\n",
    "df_consolidado_10mi.VR_BEM_CANDIDATO.hist(bins=100)\n",
    "plt.style.use('seaborn-pastel')\n",
    "plt.xlabel(\"Valor\")\n",
    "plt.ylabel(\"Número de candidatos\")\n",
    "plt.title(\"Total de bens dos candidatos até 10 mi\")\n",
    "plt.show()"
   ]
  },
  {
   "cell_type": "code",
   "execution_count": null,
   "metadata": {},
   "outputs": [],
   "source": [
    "#Plotagem dos bens de candidatos eleitos até R$ 10.000.000,00\n",
    "df_consolidado_eleitos_10mi.VR_BEM_CANDIDATO.hist(bins=100)\n",
    "plt.style.use('ggplot')\n",
    "plt.xlabel(\"Valor\")\n",
    "plt.ylabel(\"Número de candidatos eleitos\")\n",
    "plt.title(\"Total de bens dos candidatos eleitos até 10 mi\")\n",
    "plt.show()"
   ]
  },
  {
   "cell_type": "code",
   "execution_count": null,
   "metadata": {},
   "outputs": [],
   "source": [
    "#Descrição estatística das despesas contratadas\n",
    "df_despesas_contratadas['VR_DESPESA_CONTRATADA'].describe().astype('int')"
   ]
  },
  {
   "cell_type": "code",
   "execution_count": null,
   "metadata": {},
   "outputs": [],
   "source": [
    "#Primeiras linhas do dataframe df_despesas_pagas\n",
    "df_despesas_pagas.head()"
   ]
  },
  {
   "cell_type": "code",
   "execution_count": null,
   "metadata": {},
   "outputs": [],
   "source": [
    "#Agrupamento do dataframe df_despesas_pagas por código de despesa\n",
    "df_despesas_pagas = df_despesas_pagas.groupby(['SQ_DESPESA']).sum()"
   ]
  },
  {
   "cell_type": "code",
   "execution_count": null,
   "metadata": {},
   "outputs": [],
   "source": [
    "#Informações do dataframe df_despesas_pagas após agrupamento\n",
    "df_despesas_pagas.info()"
   ]
  },
  {
   "cell_type": "code",
   "execution_count": null,
   "metadata": {},
   "outputs": [],
   "source": [
    "#Definição de índice do dataframe df_despesas_contratadas\n",
    "df_despesas_contratadas = df_despesas_contratadas.set_index('SQ_DESPESA')"
   ]
  },
  {
   "cell_type": "code",
   "execution_count": null,
   "metadata": {},
   "outputs": [],
   "source": [
    "#Informações do dataframe df_despesas_contratadas após definição do índice\n",
    "df_despesas_contratadas.info()"
   ]
  },
  {
   "cell_type": "code",
   "execution_count": null,
   "metadata": {},
   "outputs": [],
   "source": [
    "#criação do dataframe df_despesas com a junção de df_despesas_contratadas e df_despesas_pagas\n",
    "df_despesas = df_despesas_contratadas.join(df_despesas_pagas)"
   ]
  },
  {
   "cell_type": "code",
   "execution_count": null,
   "metadata": {},
   "outputs": [],
   "source": [
    "#Informações do dataframe df_despesas\n",
    "df_despesas.info()"
   ]
  },
  {
   "cell_type": "code",
   "execution_count": null,
   "metadata": {},
   "outputs": [],
   "source": [
    "#identificação de valores nulos no dataframe df_despesas\n",
    "df_despesas.isnull().sum()"
   ]
  },
  {
   "cell_type": "code",
   "execution_count": null,
   "metadata": {},
   "outputs": [],
   "source": [
    "#Preenchimento dos valores nulos no dataframe df_despesas\n",
    "df_despesas.fillna(0, inplace = True)"
   ]
  },
  {
   "cell_type": "code",
   "execution_count": null,
   "metadata": {},
   "outputs": [],
   "source": [
    "#identificação de valores nulos no dataframe df_despesas\n",
    "df_despesas.isnull().sum()"
   ]
  },
  {
   "cell_type": "code",
   "execution_count": null,
   "metadata": {},
   "outputs": [],
   "source": [
    "#Agrupamento das despesas por candidato\n",
    "df_despesas = df_despesas.groupby(['SQ_CANDIDATO']).sum()"
   ]
  },
  {
   "cell_type": "code",
   "execution_count": null,
   "metadata": {},
   "outputs": [],
   "source": [
    "#Informações do dataframe df_despesas após agrupamento\n",
    "df_despesas.info()"
   ]
  },
  {
   "cell_type": "code",
   "execution_count": null,
   "metadata": {},
   "outputs": [],
   "source": [
    "#Definiçãa do dataframe df_despesas apenas com a coluna VR_PAGTO_DESPESA\n",
    "df_despesas = df_despesas[['VR_PAGTO_DESPESA']]"
   ]
  },
  {
   "cell_type": "code",
   "execution_count": null,
   "metadata": {},
   "outputs": [],
   "source": [
    "#Informações do dataframe df_despesas após seleção da coluna\n",
    "df_despesas.info()"
   ]
  },
  {
   "cell_type": "code",
   "execution_count": null,
   "metadata": {},
   "outputs": [],
   "source": [
    "#criação do dataframe df_deputados_final com a junção de df_consolidado e df_despesas\n",
    "df_deputados_final = df_consolidado.join(df_despesas)"
   ]
  },
  {
   "cell_type": "code",
   "execution_count": null,
   "metadata": {},
   "outputs": [],
   "source": [
    "#Informações do dataframe df_deputados_final\n",
    "df_deputados_final.info()"
   ]
  },
  {
   "cell_type": "code",
   "execution_count": null,
   "metadata": {},
   "outputs": [],
   "source": [
    "#identificação de valores nulos no dataframe df_deputados_final\n",
    "df_deputados_final.isnull().sum()"
   ]
  },
  {
   "cell_type": "code",
   "execution_count": null,
   "metadata": {},
   "outputs": [],
   "source": [
    "#Preenchimento dos valores nulos no dataframe df_deputados_final\n",
    "df_deputados_final.fillna(0, inplace = True)"
   ]
  },
  {
   "cell_type": "code",
   "execution_count": null,
   "metadata": {},
   "outputs": [],
   "source": [
    "#Informações do dataframe df_deputados_final após preenchimento dos valores nulos\n",
    "df_deputados_final.isnull().sum()"
   ]
  },
  {
   "cell_type": "code",
   "execution_count": null,
   "metadata": {},
   "outputs": [],
   "source": [
    "#Criação de um dataframe final com candidatos eleitos\n",
    "df_deputados_final_eleitos = df_deputados_final[df_deputados_final.DS_SIT_TOT_TURNO.isin([\n",
    "    'ELEITO POR MÉDIA', 'ELEITO POR QP'])]"
   ]
  },
  {
   "cell_type": "code",
   "execution_count": null,
   "metadata": {},
   "outputs": [],
   "source": [
    "#Informações do dataframe df_deputados_final_eleitos\n",
    "df_deputados_final_eleitos.info()"
   ]
  },
  {
   "cell_type": "code",
   "execution_count": null,
   "metadata": {},
   "outputs": [],
   "source": [
    "#Descrição estatística das despesas pagas dos candidatos\n",
    "df_deputados_final['VR_PAGTO_DESPESA'].describe().astype('int')"
   ]
  },
  {
   "cell_type": "code",
   "execution_count": null,
   "metadata": {},
   "outputs": [],
   "source": [
    "#Descrição estatística das despesas pagas dos candidatos eleitos\n",
    "df_deputados_final_eleitos['VR_PAGTO_DESPESA'].describe().astype('int')"
   ]
  },
  {
   "cell_type": "code",
   "execution_count": null,
   "metadata": {},
   "outputs": [],
   "source": [
    "#Plotagem de histograma dos valores das despesas dos candidatos\n",
    "df_deputados_final.VR_PAGTO_DESPESA.hist(bins=100)\n",
    "plt.style.use('seaborn-pastel')\n",
    "plt.xlabel(\"Valor\")\n",
    "plt.ylabel(\"Número de candidatos\")\n",
    "plt.title(\"Total de despesas dos candidatos\")\n",
    "plt.show()"
   ]
  },
  {
   "cell_type": "code",
   "execution_count": null,
   "metadata": {},
   "outputs": [],
   "source": [
    "#Plotagem de histograma dos valores das despesas dos candidatos eleitos\n",
    "df_deputados_final_eleitos.VR_PAGTO_DESPESA.hist(bins=100)\n",
    "plt.style.use('ggplot')\n",
    "plt.xlabel(\"Valor\")\n",
    "plt.ylabel(\"Número de candidatos eleitos\")\n",
    "plt.title(\"Total de despesas dos candidatos eleitos\")\n",
    "plt.show()"
   ]
  },
  {
   "cell_type": "code",
   "execution_count": null,
   "metadata": {},
   "outputs": [],
   "source": [
    "#Primeiras linhas do dataframe df_deputados_final\n",
    "df_deputados_final.head()"
   ]
  },
  {
   "cell_type": "code",
   "execution_count": null,
   "metadata": {},
   "outputs": [],
   "source": [
    "#Identificação dos valores da coluna DS_GENERO\n",
    "df_deputados_final['DS_GENERO'].unique()"
   ]
  },
  {
   "cell_type": "code",
   "execution_count": null,
   "metadata": {},
   "outputs": [],
   "source": [
    "#Identificação dos valores da coluna DS_GRAU_INSTRUCAO\n",
    "df_deputados_final['DS_GRAU_INSTRUCAO'].unique()"
   ]
  },
  {
   "cell_type": "code",
   "execution_count": null,
   "metadata": {},
   "outputs": [],
   "source": [
    "#Identificação dos valores da coluna DS_ESTADO_CIVIL\n",
    "df_deputados_final['DS_ESTADO_CIVIL'].unique()"
   ]
  },
  {
   "cell_type": "code",
   "execution_count": null,
   "metadata": {},
   "outputs": [],
   "source": [
    "#Identificação dos valores da coluna DS_COR_RACA\n",
    "df_deputados_final['DS_COR_RACA'].unique()"
   ]
  },
  {
   "cell_type": "code",
   "execution_count": null,
   "metadata": {},
   "outputs": [],
   "source": [
    "#Identificação dos valores da coluna DS_SIT_TOT_TURNO\n",
    "df_deputados_final['DS_SIT_TOT_TURNO'].unique()"
   ]
  },
  {
   "cell_type": "code",
   "execution_count": null,
   "metadata": {},
   "outputs": [],
   "source": [
    "#Transformação de valores categóricos em valores inteiros\n",
    "ajuste_ensino = {'LÊ E ESCREVE': 1,  'ENSINO FUNDAMENTAL INCOMPLETO': 2,  \n",
    "                 'ENSINO FUNDAMENTAL COMPLETO': 3,  'ENSINO MÉDIO INCOMPLETO': 4,  \n",
    "                 'ENSINO MÉDIO COMPLETO': 5,  'SUPERIOR INCOMPLETO': 6,  'SUPERIOR COMPLETO': 7}\n",
    "df_deputados_final['DS_GRAU_INSTRUCAO'] = df_deputados_final['DS_GRAU_INSTRUCAO'].map(ajuste_ensino)"
   ]
  },
  {
   "cell_type": "code",
   "execution_count": null,
   "metadata": {},
   "outputs": [],
   "source": [
    "#Verificação da alteração na coluna DS_GRAU_INSTRUCAO\n",
    "df_deputados_final['DS_GRAU_INSTRUCAO'].unique()"
   ]
  },
  {
   "cell_type": "code",
   "execution_count": null,
   "metadata": {},
   "outputs": [],
   "source": [
    "#Transformação de valores categóricos em valores inteiros\n",
    "ajuste_eleito = {'ELEITO POR QP': 1, 'SUPLENTE': 0, 'NÃO ELEITO': 0, 'ELEITO POR MÉDIA': 1}\n",
    "df_deputados_final['DS_SIT_TOT_TURNO'] = df_deputados_final['DS_SIT_TOT_TURNO'].map(ajuste_eleito)"
   ]
  },
  {
   "cell_type": "code",
   "execution_count": null,
   "metadata": {},
   "outputs": [],
   "source": [
    "#Verificação da alteração na coluna DS_SIT_TOT_TURNO\n",
    "df_deputados_final['DS_SIT_TOT_TURNO'].unique()"
   ]
  },
  {
   "cell_type": "code",
   "execution_count": null,
   "metadata": {},
   "outputs": [],
   "source": [
    "#Transformação de valores categóricos em valores inteiros\n",
    "df_deputados_final = pd.get_dummies(df_deputados_final[['NR_IDADE_DATA_POSSE', \n",
    "                                                        'DS_GENERO', 'DS_GRAU_INSTRUCAO', \n",
    "                                                        'DS_ESTADO_CIVIL', 'DS_COR_RACA', \n",
    "                                                        'DS_SIT_TOT_TURNO','VR_BEM_CANDIDATO', \n",
    "                                                        'VR_PAGTO_DESPESA' ]])"
   ]
  },
  {
   "cell_type": "code",
   "execution_count": null,
   "metadata": {},
   "outputs": [],
   "source": [
    "#Informações do dataframe df_deputados_final após os ajustes feitos\n",
    "df_deputados_final.info()"
   ]
  },
  {
   "cell_type": "code",
   "execution_count": null,
   "metadata": {},
   "outputs": [],
   "source": [
    "#Primeiras linhas do dataframe df_deputados_final\n",
    "df_deputados_final.head()"
   ]
  },
  {
   "cell_type": "code",
   "execution_count": null,
   "metadata": {},
   "outputs": [],
   "source": [
    "#Verificação dos valores da coluna DS_GENERO_FEMININO\n",
    "df_deputados_final['DS_GENERO_FEMININO'].unique()"
   ]
  },
  {
   "cell_type": "code",
   "execution_count": null,
   "metadata": {},
   "outputs": [],
   "source": [
    "#Contagem dos candidatos eleitos e não eleitos\n",
    "df_deputados_final['DS_SIT_TOT_TURNO'].value_counts()"
   ]
  },
  {
   "cell_type": "code",
   "execution_count": null,
   "metadata": {},
   "outputs": [],
   "source": [
    "#Importação da função resample da biblioteca sklearn\n",
    "from sklearn.utils import resample"
   ]
  },
  {
   "cell_type": "code",
   "execution_count": null,
   "metadata": {},
   "outputs": [],
   "source": [
    "#Criação de um dataframe apenas com candidatos não eleitos\n",
    "df_deputados_final_majority = df_deputados_final[df_deputados_final.DS_SIT_TOT_TURNO==0]\n",
    "df_deputados_final_majority.info()"
   ]
  },
  {
   "cell_type": "code",
   "execution_count": null,
   "metadata": {},
   "outputs": [],
   "source": [
    "#Criação de um dataframe apenas com candidatos eleitos\n",
    "df_deputados_final_minority = df_deputados_final[df_deputados_final.DS_SIT_TOT_TURNO==1]\n",
    "df_deputados_final_minority.info()"
   ]
  },
  {
   "cell_type": "code",
   "execution_count": null,
   "metadata": {},
   "outputs": [],
   "source": [
    "#Ajuste no número de entradas do dataframe de candidatos eleitos\n",
    "df_deputados_final_minority_upsampled = resample(df_deputados_final_minority, \n",
    "                                                 replace=True, n_samples=22283, \n",
    "                                                 random_state=123)"
   ]
  },
  {
   "cell_type": "code",
   "execution_count": null,
   "metadata": {},
   "outputs": [],
   "source": [
    "#Informações do dataframe ajustado\n",
    "df_deputados_final_minority_upsampled.info()"
   ]
  },
  {
   "cell_type": "code",
   "execution_count": null,
   "metadata": {},
   "outputs": [],
   "source": [
    "#Concatenação dos dataframes de candidatos eleitos e não eleitos\n",
    "df_deputados_final_upsampled = pd.concat([df_deputados_final_majority, \n",
    "                                          df_deputados_final_minority_upsampled])"
   ]
  },
  {
   "cell_type": "code",
   "execution_count": null,
   "metadata": {},
   "outputs": [],
   "source": [
    "#Informações do dataframe ajustado\n",
    "df_deputados_final_upsampled.info()"
   ]
  },
  {
   "cell_type": "code",
   "execution_count": null,
   "metadata": {},
   "outputs": [],
   "source": [
    "#Contagem dos valores de candidatos eleitos e não eleitos\n",
    "df_deputados_final_upsampled['DS_SIT_TOT_TURNO'].value_counts()"
   ]
  },
  {
   "cell_type": "code",
   "execution_count": null,
   "metadata": {},
   "outputs": [],
   "source": [
    "#Importação da função train_test_split\n",
    "from sklearn.model_selection import train_test_split"
   ]
  },
  {
   "cell_type": "code",
   "execution_count": null,
   "metadata": {},
   "outputs": [],
   "source": [
    "#Divisão para as bases de treinamento\n",
    "X_train = df_deputados_final_upsampled.drop(['DS_SIT_TOT_TURNO'], axis = 1)\n",
    "y_train = df_deputados_final_upsampled.DS_SIT_TOT_TURNO"
   ]
  },
  {
   "cell_type": "code",
   "execution_count": null,
   "metadata": {},
   "outputs": [],
   "source": [
    "#Informações do dataframe com os dados para treinamento\n",
    "X_train.info()"
   ]
  },
  {
   "cell_type": "code",
   "execution_count": null,
   "metadata": {},
   "outputs": [],
   "source": [
    "#Tipo da serie y_train\n",
    "type(y_train)"
   ]
  },
  {
   "cell_type": "code",
   "execution_count": null,
   "metadata": {},
   "outputs": [],
   "source": [
    "#Criação das bases de teste e treinamento\n",
    "xtreinamento, xteste, ytreinamento, yteste = train_test_split(X_train, y_train, random_state = 0)"
   ]
  },
  {
   "cell_type": "code",
   "execution_count": null,
   "metadata": {},
   "outputs": [],
   "source": [
    "#Informação do dataframe de treinamento\n",
    "xtreinamento.info()"
   ]
  },
  {
   "cell_type": "code",
   "execution_count": null,
   "metadata": {},
   "outputs": [],
   "source": [
    "#Informação do dataframe de teste\n",
    "xteste.info()"
   ]
  },
  {
   "cell_type": "code",
   "execution_count": null,
   "metadata": {},
   "outputs": [],
   "source": [
    "#Contagem dos resultados para treinamento\n",
    "ytreinamento.count()"
   ]
  },
  {
   "cell_type": "code",
   "execution_count": null,
   "metadata": {},
   "outputs": [],
   "source": [
    "#Contagem dos resultados para teste\n",
    "yteste.count()"
   ]
  },
  {
   "cell_type": "code",
   "execution_count": null,
   "metadata": {},
   "outputs": [],
   "source": [
    "#Importação das funções para as medidas de avaliação dos algoritmos\n",
    "from sklearn.metrics import accuracy_score, classification_report"
   ]
  },
  {
   "cell_type": "code",
   "execution_count": null,
   "metadata": {},
   "outputs": [],
   "source": [
    "#Criação do modelo utilizando a Árvore de decisão\n",
    "from sklearn.tree import DecisionTreeClassifier\n",
    "from sklearn import tree\n",
    "deputados_tree = DecisionTreeClassifier(random_state=0)\n",
    "deputados_tree = deputados_tree.fit(xtreinamento, ytreinamento)\n",
    "print(\"Acurácia: \", deputados_tree.score(xtreinamento, ytreinamento))\n",
    "Train_predict = deputados_tree.predict(xteste)\n",
    "print(\"Acurácia de previsão: \", accuracy_score(yteste, Train_predict))\n",
    "print(classification_report(yteste, Train_predict))"
   ]
  },
  {
   "cell_type": "code",
   "execution_count": null,
   "metadata": {},
   "outputs": [],
   "source": [
    "#Criação do modelo utilizando a Regressão Logística\n",
    "from sklearn.linear_model import LogisticRegression\n",
    "lr = LogisticRegression()\n",
    "lr = lr.fit(xtreinamento, ytreinamento)\n",
    "print(\"Acurácia: \", lr.score(xtreinamento, ytreinamento))\n",
    "tp_lr = lr.predict(xteste)\n",
    "print(\"Acurácia de previsão: \", accuracy_score(yteste, tp_lr))\n",
    "print(classification_report(yteste, tp_lr))"
   ]
  },
  {
   "cell_type": "code",
   "execution_count": null,
   "metadata": {},
   "outputs": [],
   "source": [
    "#Criação do modelo utilizando Naïve Bayes\n",
    "from sklearn.naive_bayes import GaussianNB\n",
    "nb = GaussianNB()\n",
    "nb = nb.fit(xtreinamento, ytreinamento)\n",
    "print(\"Acurácia: \", nb.score(xtreinamento, ytreinamento))\n",
    "tp_nb = nb.predict(xteste)\n",
    "print(\"Acurácia de previsão: \", accuracy_score(yteste, tp_nb))\n",
    "print(classification_report(yteste, tp_nb))"
   ]
  },
  {
   "cell_type": "code",
   "execution_count": null,
   "metadata": {},
   "outputs": [],
   "source": [
    "#Criação do modelo utilizando Gradiente Descendente\n",
    "from sklearn.linear_model import SGDClassifier\n",
    "sgd = SGDClassifier()\n",
    "sgd = sgd.fit(xtreinamento, ytreinamento)\n",
    "print(\"Acurácia: \", sgd.score(xtreinamento, ytreinamento))\n",
    "tp_sgd = sgd.predict(xteste)\n",
    "print(\"Acurácia de previsão: \", accuracy_score(yteste, tp_sgd))\n",
    "print(classification_report(yteste, tp_sgd))"
   ]
  },
  {
   "cell_type": "code",
   "execution_count": null,
   "metadata": {},
   "outputs": [],
   "source": [
    "#Criação do modelo utilizando KNN (K - Nearest Neighbors)\n",
    "from sklearn.neighbors import KNeighborsClassifier\n",
    "knn = KNeighborsClassifier()\n",
    "knn = knn.fit(xtreinamento, ytreinamento)\n",
    "print(\"Acurácia: \", knn.score(xtreinamento, ytreinamento))\n",
    "tp_knn = knn.predict(xteste)\n",
    "print(\"Acurácia de previsão: \", accuracy_score(yteste, tp_knn))\n",
    "print(classification_report(yteste, tp_knn))"
   ]
  },
  {
   "cell_type": "code",
   "execution_count": null,
   "metadata": {},
   "outputs": [],
   "source": [
    "#Criação do modelo utilizando Randon Forest \n",
    "from sklearn.ensemble import RandomForestClassifier\n",
    "rfm = RandomForestClassifier()\n",
    "rfm = rfm.fit(xtreinamento, ytreinamento)\n",
    "print(\"Acurácia: \", rfm.score(xtreinamento, ytreinamento))\n",
    "tp_rfm = rfm.predict(xteste)\n",
    "print(\"Acurácia de previsão: \", accuracy_score(yteste, tp_rfm))\n",
    "print(classification_report(yteste, tp_rfm))"
   ]
  },
  {
   "cell_type": "code",
   "execution_count": null,
   "metadata": {},
   "outputs": [],
   "source": []
  }
 ],
 "metadata": {
  "kernelspec": {
   "display_name": "Python 3",
   "language": "python",
   "name": "python3"
  },
  "language_info": {
   "codemirror_mode": {
    "name": "ipython",
    "version": 3
   },
   "file_extension": ".py",
   "mimetype": "text/x-python",
   "name": "python",
   "nbconvert_exporter": "python",
   "pygments_lexer": "ipython3",
   "version": "3.7.0"
  }
 },
 "nbformat": 4,
 "nbformat_minor": 2
}
